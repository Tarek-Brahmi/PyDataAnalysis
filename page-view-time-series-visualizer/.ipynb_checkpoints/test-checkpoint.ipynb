{
 "cells": [
  {
   "cell_type": "code",
   "execution_count": 282,
   "id": "2a139e11",
   "metadata": {},
   "outputs": [],
   "source": [
    "import matplotlib.pyplot as plt\n",
    "import pandas as pd\n",
    "import seaborn as sns\n",
    "import math\n",
    "import numpy as np\n",
    "from pandas.plotting import register_matplotlib_converters\n",
    "register_matplotlib_converters()"
   ]
  },
  {
   "cell_type": "code",
   "execution_count": 283,
   "id": "5bd572ca",
   "metadata": {},
   "outputs": [],
   "source": [
    "# Import data (Make sure to parse dates. Consider setting index column to 'date'.)\n",
    "df = pd.read_csv(\"fcc-forum-pageviews.csv\",parse_dates=True,index_col=0)"
   ]
  },
  {
   "cell_type": "code",
   "execution_count": 293,
   "id": "02f4d4fd",
   "metadata": {},
   "outputs": [
    {
     "data": {
      "text/html": [
       "<div>\n",
       "<style scoped>\n",
       "    .dataframe tbody tr th:only-of-type {\n",
       "        vertical-align: middle;\n",
       "    }\n",
       "\n",
       "    .dataframe tbody tr th {\n",
       "        vertical-align: top;\n",
       "    }\n",
       "\n",
       "    .dataframe thead th {\n",
       "        text-align: right;\n",
       "    }\n",
       "</style>\n",
       "<table border=\"1\" class=\"dataframe\">\n",
       "  <thead>\n",
       "    <tr style=\"text-align: right;\">\n",
       "      <th></th>\n",
       "      <th>value</th>\n",
       "    </tr>\n",
       "    <tr>\n",
       "      <th>date</th>\n",
       "      <th></th>\n",
       "    </tr>\n",
       "  </thead>\n",
       "  <tbody>\n",
       "    <tr>\n",
       "      <th>2016-05-19</th>\n",
       "      <td>19736</td>\n",
       "    </tr>\n",
       "    <tr>\n",
       "      <th>2016-05-26</th>\n",
       "      <td>18060</td>\n",
       "    </tr>\n",
       "    <tr>\n",
       "      <th>2016-05-27</th>\n",
       "      <td>19997</td>\n",
       "    </tr>\n",
       "    <tr>\n",
       "      <th>2016-05-28</th>\n",
       "      <td>19044</td>\n",
       "    </tr>\n",
       "    <tr>\n",
       "      <th>2016-05-29</th>\n",
       "      <td>20325</td>\n",
       "    </tr>\n",
       "    <tr>\n",
       "      <th>...</th>\n",
       "      <td>...</td>\n",
       "    </tr>\n",
       "    <tr>\n",
       "      <th>2019-11-24</th>\n",
       "      <td>138875</td>\n",
       "    </tr>\n",
       "    <tr>\n",
       "      <th>2019-11-29</th>\n",
       "      <td>171584</td>\n",
       "    </tr>\n",
       "    <tr>\n",
       "      <th>2019-11-30</th>\n",
       "      <td>141161</td>\n",
       "    </tr>\n",
       "    <tr>\n",
       "      <th>2019-12-01</th>\n",
       "      <td>142918</td>\n",
       "    </tr>\n",
       "    <tr>\n",
       "      <th>2019-12-03</th>\n",
       "      <td>158549</td>\n",
       "    </tr>\n",
       "  </tbody>\n",
       "</table>\n",
       "<p>1240 rows × 1 columns</p>\n",
       "</div>"
      ],
      "text/plain": [
       "             value\n",
       "date              \n",
       "2016-05-19   19736\n",
       "2016-05-26   18060\n",
       "2016-05-27   19997\n",
       "2016-05-28   19044\n",
       "2016-05-29   20325\n",
       "...            ...\n",
       "2019-11-24  138875\n",
       "2019-11-29  171584\n",
       "2019-11-30  141161\n",
       "2019-12-01  142918\n",
       "2019-12-03  158549\n",
       "\n",
       "[1240 rows x 1 columns]"
      ]
     },
     "execution_count": 293,
     "metadata": {},
     "output_type": "execute_result"
    }
   ],
   "source": [
    "df"
   ]
  },
  {
   "cell_type": "code",
   "execution_count": 296,
   "id": "b9c535b2",
   "metadata": {},
   "outputs": [
    {
     "name": "stderr",
     "output_type": "stream",
     "text": [
      "<ipython-input-296-556d23f29bce>:9: SettingWithCopyWarning: \n",
      "A value is trying to be set on a copy of a slice from a DataFrame.\n",
      "Try using .loc[row_indexer,col_indexer] = value instead\n",
      "\n",
      "See the caveats in the documentation: https://pandas.pydata.org/pandas-docs/stable/user_guide/indexing.html#returning-a-view-versus-a-copy\n",
      "  df[\"year\"] = df.index.year\n",
      "<ipython-input-296-556d23f29bce>:11: SettingWithCopyWarning: \n",
      "A value is trying to be set on a copy of a slice from a DataFrame.\n",
      "Try using .loc[row_indexer,col_indexer] = value instead\n",
      "\n",
      "See the caveats in the documentation: https://pandas.pydata.org/pandas-docs/stable/user_guide/indexing.html#returning-a-view-versus-a-copy\n",
      "  df[\"month\"] = df.index.month\n",
      "<ipython-input-296-556d23f29bce>:13: SettingWithCopyWarning: \n",
      "A value is trying to be set on a copy of a slice from a DataFrame.\n",
      "Try using .loc[row_indexer,col_indexer] = value instead\n",
      "\n",
      "See the caveats in the documentation: https://pandas.pydata.org/pandas-docs/stable/user_guide/indexing.html#returning-a-view-versus-a-copy\n",
      "  df[\"month\"] = df[\"month\"].apply(\n",
      "<ipython-input-296-556d23f29bce>:18: SettingWithCopyWarning: \n",
      "A value is trying to be set on a copy of a slice from a DataFrame.\n",
      "Try using .loc[row_indexer,col_indexer] = value instead\n",
      "\n",
      "See the caveats in the documentation: https://pandas.pydata.org/pandas-docs/stable/user_guide/indexing.html#returning-a-view-versus-a-copy\n",
      "  df[\"month\"] = pd.Categorical(df[\"month\"], categories=months)\n"
     ]
    },
    {
     "data": {
      "text/plain": [
       "Text(0, 0.5, 'Average Page Views')"
      ]
     },
     "execution_count": 296,
     "metadata": {},
     "output_type": "execute_result"
    },
    {
     "data": {
      "image/png": "[encoded data removed]",
      "text/plain": [
       "<Figure size 504x432 with 1 Axes>"
      ]
     },
     "metadata": {
      "needs_background": "light"
     },
     "output_type": "display_data"
    }
   ],
   "source": [
    "\n",
    "# Remove possible outliers (i.e, top and bottom 2.5 percentiles)\n",
    "df = df[\n",
    "    (df[\"value\"] > df[\"value\"].quantile(0.025)) &\n",
    "    (df[\"value\"] < df[\"value\"].quantile(0.975))\n",
    "]\n",
    "\n",
    "months = [\"January\", \"February\", \"March\", \"April\", \"May\", \"June\", \"July\", \"August\", \"September\", \"October\", \"November\", \"December\"]\n",
    "# Create a column that has the year of each date recording\n",
    "df[\"year\"] = df.index.year\n",
    "# Create a column that has the month (1-12) of each date recording\n",
    "df[\"month\"] = df.index.month\n",
    "# Map the month integers to their proper names\n",
    "df[\"month\"] = df[\"month\"].apply(\n",
    "    lambda data: months[data-1]\n",
    ")\n",
    "# Make this a categorical column so it can be sorted by the order of values\\\n",
    "# in the `months` list, i.e., the proper month order\n",
    "df[\"month\"] = pd.Categorical(df[\"month\"], categories=months)\n",
    "\n",
    "# Pivot the DF so that there's a column for each month, each row\\\n",
    "# represents a year, and the cells have the mean page views for the\\\n",
    "# respective year and month\n",
    "df_pivot = pd.pivot_table(\n",
    "\tdf,\n",
    "\tvalues=\"value\",\n",
    "\tindex=\"year\",\n",
    "\tcolumns=\"month\",\n",
    "\taggfunc=np.mean\n",
    ")\n",
    "\n",
    "# Plot a bar chart using the DF\n",
    "ax = df_pivot.plot(kind=\"bar\")\n",
    "# Get a Matplotlib figure from the axes object for formatting purposes\n",
    "fig = ax.get_figure()\n",
    "# Change the plot dimensions (width, height)\n",
    "fig.set_size_inches(7, 6)\n",
    "# Change the axes labels\n",
    "ax.set_xlabel(\"Years\")\n",
    "ax.set_ylabel(\"Average Page Views\")"
   ]
  },
  {
   "cell_type": "markdown",
   "id": "3daa415d",
   "metadata": {},
   "source": [
    "* Clean the data by filtering out days when the page views were in the top 2.5% of the dataset or bottom 2.5% of the dataset.\n",
    "* I think when you sort the data from highest to lowest, you have to remove the highest 2.5% and the lowest 2.5%."
   ]
  },
  {
   "cell_type": "code",
   "execution_count": 285,
   "id": "96e53dfa",
   "metadata": {},
   "outputs": [],
   "source": [
    "m=math.floor(df.sort_values(by=['value']).shape[0]-float(df.sort_values(by=['value']).shape[0])*0.025)"
   ]
  },
  {
   "cell_type": "code",
   "execution_count": 286,
   "id": "c98131b6",
   "metadata": {},
   "outputs": [],
   "source": [
    "n=math.floor(float(df.sort_values(by=['value']).shape[0])*0.025)"
   ]
  },
  {
   "cell_type": "code",
   "execution_count": 287,
   "id": "e5a85590",
   "metadata": {},
   "outputs": [],
   "source": [
    "df=df.sort_values(by=['value'])[n:m+1]"
   ]
  },
  {
   "cell_type": "markdown",
   "id": "3fdd5d1d",
   "metadata": {},
   "source": [
    "* Create a `draw_line_plot` function that uses Matplotlib to draw a line chart similar to \"examples/Figure_1.png\". The title should be \"Daily freeCodeCamp Forum Page Views 5/2016-12/2019\". The label on the x axis should be \"Date\" and the label on the y axis should be \"Page Views\"."
   ]
  },
  {
   "cell_type": "code",
   "execution_count": 288,
   "id": "fd854d68",
   "metadata": {},
   "outputs": [
    {
     "data": {
      "image/png": "[encoded data removed]",
      "text/plain": [
       "<Figure size 720x360 with 1 Axes>"
      ]
     },
     "metadata": {
      "needs_background": "light"
     },
     "output_type": "display_data"
    }
   ],
   "source": [
    "fig, ax = plt.subplots(figsize=(10,5))\n",
    "df.plot(kind='line',y='value',title=\"Daily freeCodeCamp Forum Page Views 5/2016-12/2019\", grid=True,fontsize=10, ax=ax,color='red')\n",
    "ax.set_xlabel(\"Date\")\n",
    "ax.set_ylabel(\"Page Views\")\n",
    "plt.show()"
   ]
  },
  {
   "cell_type": "markdown",
   "id": "9de78866",
   "metadata": {},
   "source": [
    "* Create a `draw_bar_plot` function that draws a bar chart similar to \"examples/Figure_2.png\". It should show average daily page views for each month grouped by year. The legend should show month labels and have a title of \"Months\". On the chart, the label on the x axis should be \"Years\" and the label on the y axis should be \"Average Page Views\"."
   ]
  },
  {
   "cell_type": "code",
   "execution_count": 289,
   "id": "2c94fecd",
   "metadata": {},
   "outputs": [
    {
     "data": {
      "text/plain": [
       "Index(['value'], dtype='object')"
      ]
     },
     "execution_count": 289,
     "metadata": {},
     "output_type": "execute_result"
    }
   ],
   "source": [
    "df.keys()"
   ]
  },
  {
   "cell_type": "code",
   "execution_count": 291,
   "id": "8ea536ec",
   "metadata": {},
   "outputs": [
    {
     "ename": "KeyError",
     "evalue": "'date'",
     "output_type": "error",
     "traceback": [
      "\u001b[0;31m---------------------------------------------------------------------------\u001b[0m",
      "\u001b[0;31mKeyError\u001b[0m                                  Traceback (most recent call last)",
      "\u001b[0;32m~/.local/lib/python3.8/site-packages/pandas/core/indexes/base.py\u001b[0m in \u001b[0;36mget_loc\u001b[0;34m(self, key, method, tolerance)\u001b[0m\n\u001b[1;32m   3079\u001b[0m             \u001b[0;32mtry\u001b[0m\u001b[0;34m:\u001b[0m\u001b[0;34m\u001b[0m\u001b[0;34m\u001b[0m\u001b[0m\n\u001b[0;32m-> 3080\u001b[0;31m                 \u001b[0;32mreturn\u001b[0m \u001b[0mself\u001b[0m\u001b[0;34m.\u001b[0m\u001b[0m_engine\u001b[0m\u001b[0;34m.\u001b[0m\u001b[0mget_loc\u001b[0m\u001b[0;34m(\u001b[0m\u001b[0mcasted_key\u001b[0m\u001b[0;34m)\u001b[0m\u001b[0;34m\u001b[0m\u001b[0;34m\u001b[0m\u001b[0m\n\u001b[0m\u001b[1;32m   3081\u001b[0m             \u001b[0;32mexcept\u001b[0m \u001b[0mKeyError\u001b[0m \u001b[0;32mas\u001b[0m \u001b[0merr\u001b[0m\u001b[0;34m:\u001b[0m\u001b[0;34m\u001b[0m\u001b[0;34m\u001b[0m\u001b[0m\n",
      "\u001b[0;32mpandas/_libs/index.pyx\u001b[0m in \u001b[0;36mpandas._libs.index.IndexEngine.get_loc\u001b[0;34m()\u001b[0m\n",
      "\u001b[0;32mpandas/_libs/index.pyx\u001b[0m in \u001b[0;36mpandas._libs.index.IndexEngine.get_loc\u001b[0;34m()\u001b[0m\n",
      "\u001b[0;32mpandas/_libs/hashtable_class_helper.pxi\u001b[0m in \u001b[0;36mpandas._libs.hashtable.PyObjectHashTable.get_item\u001b[0;34m()\u001b[0m\n",
      "\u001b[0;32mpandas/_libs/hashtable_class_helper.pxi\u001b[0m in \u001b[0;36mpandas._libs.hashtable.PyObjectHashTable.get_item\u001b[0;34m()\u001b[0m\n",
      "\u001b[0;31mKeyError\u001b[0m: 'date'",
      "\nThe above exception was the direct cause of the following exception:\n",
      "\u001b[0;31mKeyError\u001b[0m                                  Traceback (most recent call last)",
      "\u001b[0;32m<ipython-input-291-68d7e83808e6>\u001b[0m in \u001b[0;36m<module>\u001b[0;34m\u001b[0m\n\u001b[0;32m----> 1\u001b[0;31m \u001b[0mdf\u001b[0m\u001b[0;34m[\u001b[0m\u001b[0;34m\"date\"\u001b[0m\u001b[0;34m]\u001b[0m \u001b[0;34m=\u001b[0m \u001b[0mpd\u001b[0m\u001b[0;34m.\u001b[0m\u001b[0mto_datetime\u001b[0m\u001b[0;34m(\u001b[0m\u001b[0mdf\u001b[0m\u001b[0;34m[\u001b[0m\u001b[0;34m\"date\"\u001b[0m\u001b[0;34m]\u001b[0m\u001b[0;34m)\u001b[0m\u001b[0;34m\u001b[0m\u001b[0;34m\u001b[0m\u001b[0m\n\u001b[0m\u001b[1;32m      2\u001b[0m \u001b[0;31m# Sort the DF from oldest to most recent recordings\u001b[0m\u001b[0;34m\u001b[0m\u001b[0;34m\u001b[0m\u001b[0;34m\u001b[0m\u001b[0m\n\u001b[1;32m      3\u001b[0m \u001b[0mdf\u001b[0m\u001b[0;34m.\u001b[0m\u001b[0msort_values\u001b[0m\u001b[0;34m(\u001b[0m\u001b[0mby\u001b[0m\u001b[0;34m=\u001b[0m\u001b[0;34m\"date\"\u001b[0m\u001b[0;34m,\u001b[0m \u001b[0minplace\u001b[0m\u001b[0;34m=\u001b[0m\u001b[0;32mTrue\u001b[0m\u001b[0;34m)\u001b[0m\u001b[0;34m\u001b[0m\u001b[0;34m\u001b[0m\u001b[0m\n\u001b[1;32m      4\u001b[0m \u001b[0;31m# Use the column of dates as the DF's index\u001b[0m\u001b[0;34m\u001b[0m\u001b[0;34m\u001b[0m\u001b[0;34m\u001b[0m\u001b[0m\n\u001b[1;32m      5\u001b[0m \u001b[0mdf\u001b[0m\u001b[0;34m.\u001b[0m\u001b[0mset_index\u001b[0m\u001b[0;34m(\u001b[0m\u001b[0;34m[\u001b[0m\u001b[0;34m\"date\"\u001b[0m\u001b[0;34m]\u001b[0m\u001b[0;34m,\u001b[0m \u001b[0minplace\u001b[0m\u001b[0;34m=\u001b[0m\u001b[0;32mTrue\u001b[0m\u001b[0;34m)\u001b[0m\u001b[0;34m\u001b[0m\u001b[0;34m\u001b[0m\u001b[0m\n",
      "\u001b[0;32m~/.local/lib/python3.8/site-packages/pandas/core/frame.py\u001b[0m in \u001b[0;36m__getitem__\u001b[0;34m(self, key)\u001b[0m\n\u001b[1;32m   3022\u001b[0m             \u001b[0;32mif\u001b[0m \u001b[0mself\u001b[0m\u001b[0;34m.\u001b[0m\u001b[0mcolumns\u001b[0m\u001b[0;34m.\u001b[0m\u001b[0mnlevels\u001b[0m \u001b[0;34m>\u001b[0m \u001b[0;36m1\u001b[0m\u001b[0;34m:\u001b[0m\u001b[0;34m\u001b[0m\u001b[0;34m\u001b[0m\u001b[0m\n\u001b[1;32m   3023\u001b[0m                 \u001b[0;32mreturn\u001b[0m \u001b[0mself\u001b[0m\u001b[0;34m.\u001b[0m\u001b[0m_getitem_multilevel\u001b[0m\u001b[0;34m(\u001b[0m\u001b[0mkey\u001b[0m\u001b[0;34m)\u001b[0m\u001b[0;34m\u001b[0m\u001b[0;34m\u001b[0m\u001b[0m\n\u001b[0;32m-> 3024\u001b[0;31m             \u001b[0mindexer\u001b[0m \u001b[0;34m=\u001b[0m \u001b[0mself\u001b[0m\u001b[0;34m.\u001b[0m\u001b[0mcolumns\u001b[0m\u001b[0;34m.\u001b[0m\u001b[0mget_loc\u001b[0m\u001b[0;34m(\u001b[0m\u001b[0mkey\u001b[0m\u001b[0;34m)\u001b[0m\u001b[0;34m\u001b[0m\u001b[0;34m\u001b[0m\u001b[0m\n\u001b[0m\u001b[1;32m   3025\u001b[0m             \u001b[0;32mif\u001b[0m \u001b[0mis_integer\u001b[0m\u001b[0;34m(\u001b[0m\u001b[0mindexer\u001b[0m\u001b[0;34m)\u001b[0m\u001b[0;34m:\u001b[0m\u001b[0;34m\u001b[0m\u001b[0;34m\u001b[0m\u001b[0m\n\u001b[1;32m   3026\u001b[0m                 \u001b[0mindexer\u001b[0m \u001b[0;34m=\u001b[0m \u001b[0;34m[\u001b[0m\u001b[0mindexer\u001b[0m\u001b[0;34m]\u001b[0m\u001b[0;34m\u001b[0m\u001b[0;34m\u001b[0m\u001b[0m\n",
      "\u001b[0;32m~/.local/lib/python3.8/site-packages/pandas/core/indexes/base.py\u001b[0m in \u001b[0;36mget_loc\u001b[0;34m(self, key, method, tolerance)\u001b[0m\n\u001b[1;32m   3080\u001b[0m                 \u001b[0;32mreturn\u001b[0m \u001b[0mself\u001b[0m\u001b[0;34m.\u001b[0m\u001b[0m_engine\u001b[0m\u001b[0;34m.\u001b[0m\u001b[0mget_loc\u001b[0m\u001b[0;34m(\u001b[0m\u001b[0mcasted_key\u001b[0m\u001b[0;34m)\u001b[0m\u001b[0;34m\u001b[0m\u001b[0;34m\u001b[0m\u001b[0m\n\u001b[1;32m   3081\u001b[0m             \u001b[0;32mexcept\u001b[0m \u001b[0mKeyError\u001b[0m \u001b[0;32mas\u001b[0m \u001b[0merr\u001b[0m\u001b[0;34m:\u001b[0m\u001b[0;34m\u001b[0m\u001b[0;34m\u001b[0m\u001b[0m\n\u001b[0;32m-> 3082\u001b[0;31m                 \u001b[0;32mraise\u001b[0m \u001b[0mKeyError\u001b[0m\u001b[0;34m(\u001b[0m\u001b[0mkey\u001b[0m\u001b[0;34m)\u001b[0m \u001b[0;32mfrom\u001b[0m \u001b[0merr\u001b[0m\u001b[0;34m\u001b[0m\u001b[0;34m\u001b[0m\u001b[0m\n\u001b[0m\u001b[1;32m   3083\u001b[0m \u001b[0;34m\u001b[0m\u001b[0m\n\u001b[1;32m   3084\u001b[0m         \u001b[0;32mif\u001b[0m \u001b[0mtolerance\u001b[0m \u001b[0;32mis\u001b[0m \u001b[0;32mnot\u001b[0m \u001b[0;32mNone\u001b[0m\u001b[0;34m:\u001b[0m\u001b[0;34m\u001b[0m\u001b[0;34m\u001b[0m\u001b[0m\n",
      "\u001b[0;31mKeyError\u001b[0m: 'date'"
     ]
    }
   ],
   "source": [
    "df[\"date\"] = pd.to_datetime(df[\"date\"])\n",
    "# Sort the DF from oldest to most recent recordings\n",
    "df.sort_values(by=\"date\", inplace=True)\n",
    "# Use the column of dates as the DF's index\n",
    "df.set_index([\"date\"], inplace=True)\n",
    "\n",
    "# Remove possible outliers (i.e, top and bottom 2.5 percentiles)\n",
    "df = df[\n",
    "    (df[\"page_views\"] > df[\"page_views\"].quantile(0.025)) &\n",
    "    (df[\"page_views\"] < df[\"page_views\"].quantile(0.975))\n",
    "]\n",
    "\n",
    "months = [\"January\", \"February\", \"March\", \"April\", \"May\", \"June\", \"July\", \"August\", \"September\", \"October\", \"November\", \"December\"]\n",
    "# Create a column that has the year of each date recording\n",
    "df[\"year\"] = df.index.year\n",
    "# Create a column that has the month (1-12) of each date recording\n",
    "df[\"month\"] = df.index.month\n",
    "# Map the month integers to their proper names\n",
    "df[\"month\"] = df[\"month\"].apply(\n",
    "    lambda data: months[data-1]\n",
    ")\n",
    "# Make this a categorical column so it can be sorted by the order of values\\\n",
    "# in the `months` list, i.e., the proper month order\n",
    "df[\"month\"] = pd.Categorical(df[\"month\"], categories=months)\n",
    "\n",
    "# Pivot the DF so that there's a column for each month, each row\\\n",
    "# represents a year, and the cells have the mean page views for the\\\n",
    "# respective year and month\n",
    "df_pivot = pd.pivot_table(\n",
    "\tdf,\n",
    "\tvalues=\"page_views\",\n",
    "\tindex=\"year\",\n",
    "\tcolumns=\"month\",\n",
    "\taggfunc=np.mean\n",
    ")\n",
    "\n",
    "# Plot a bar chart using the DF\n",
    "ax = df_pivot.plot(kind=\"bar\")\n",
    "# Get a Matplotlib figure from the axes object for formatting purposes\n",
    "fig = ax.get_figure()\n",
    "# Change the plot dimensions (width, height)\n",
    "fig.set_size_inches(7, 6)\n",
    "# Change the axes labels\n",
    "ax.set_xlabel(\"Years\")\n",
    "ax.set_ylabel(\"Average Page Views\")"
   ]
  },
  {
   "cell_type": "code",
   "execution_count": null,
   "id": "6adadb5c",
   "metadata": {},
   "outputs": [],
   "source": [
    "df.index[1]"
   ]
  },
  {
   "cell_type": "code",
   "execution_count": null,
   "id": "c6e26792",
   "metadata": {},
   "outputs": [],
   "source": [
    "df[\"newDate\"]=np.array([i.strftime(\"%Y-%m-%d\") for i in df.index])"
   ]
  },
  {
   "cell_type": "code",
   "execution_count": null,
   "id": "d547e40b",
   "metadata": {},
   "outputs": [],
   "source": [
    "s_2016=df.sort_values(by=['value'])['newDate'].str.split(\"-\",expand=True)[2]==\"2016\""
   ]
  },
  {
   "cell_type": "code",
   "execution_count": null,
   "id": "9c076572",
   "metadata": {},
   "outputs": [],
   "source": [
    "month = {'01':'Janauary','02':'February',\n",
    "'03':'March','04':'April','05':'May','06':'June','07':'July','08':'August','09':'September','10':'October','11':'November','12':'December'}"
   ]
  },
  {
   "cell_type": "code",
   "execution_count": null,
   "id": "0c00d4f4",
   "metadata": {},
   "outputs": [],
   "source": [
    "s_2016=[i for i in df.sort_index().index if i.strftime(\"%Y\")==\"2016\"]\n",
    "s_2016_min=s_2016[0]\n",
    "\n",
    "s_2016_max=s_2016[-1]\n",
    "data_range=df.loc[(df.index>= s_2016_min)& (df.index<= s_2016_max)].sort_index()\n",
    "\n",
    "\n"
   ]
  },
  {
   "cell_type": "code",
   "execution_count": null,
   "id": "f89ced4a",
   "metadata": {},
   "outputs": [],
   "source": [
    "data_range"
   ]
  },
  {
   "cell_type": "code",
   "execution_count": null,
   "id": "d4e154b9",
   "metadata": {},
   "outputs": [],
   "source": [
    "### get the avarage of one month\n",
    "\n",
    "years=['2016','2017','2018','2019']\n",
    "data=[]\n",
    "for year in years:\n",
    "    month_avrage=[]\n",
    "    for k in month:\n",
    "        x=[j for j in [i for i in df.sort_index().index if i.strftime(\"%Y\")==year] if j.strftime(\"%m\")==str(k) ]\n",
    "        if x!=[]:\n",
    "            month_avrage.append(df.loc[(df.index>=x[0])& (df.index<= x[-1])].sort_index().value.mean())\n",
    "        else :\n",
    "            month_avrage.append(0)\n",
    "    data.append(month_avrage)\n",
    "print(data)"
   ]
  },
  {
   "cell_type": "code",
   "execution_count": null,
   "id": "3b699467",
   "metadata": {},
   "outputs": [],
   "source": [
    "for k in data:\n",
    "    print(len(k))"
   ]
  },
  {
   "cell_type": "code",
   "execution_count": null,
   "id": "a15d228a",
   "metadata": {},
   "outputs": [],
   "source": [
    "col=[\"#ff700a\",\"#007bb4\" ,\"#00c3cf\" ,\"#bdbc23\" ,\"#7f7f7f\" ,\"#f26dc2\" ,\"#914f49\" ,\"#8456a1\" ,\"#e80027\" ,\"#00a32d\" ,\"#ff700a\" ,\"#007bb4\"][::-1]"
   ]
  },
  {
   "cell_type": "code",
   "execution_count": null,
   "id": "b0d964e3",
   "metadata": {},
   "outputs": [],
   "source": [
    "X = np.arange(12)\n",
    "fig = plt.figure()\n",
    "ax = fig.add_axes([0,0,1,1])\n",
    "ss=0.0\n",
    "for i in data:\n",
    "    for k in range(len(i)):\n",
    "        ax.bar(X + ss, data[0], color = col[k], width = 0.25)\n",
    "        ss+=0.25\n",
    "\n",
    "ax.set_ylabel('\"Average Page Views\"')\n",
    "ax.set_xlabel('Year')\n",
    "ax.set_title(\"Months\")\n",
    "ax.legend(labels=list(month.values()))"
   ]
  },
  {
   "cell_type": "code",
   "execution_count": null,
   "id": "9a1cdff4",
   "metadata": {},
   "outputs": [],
   "source": [
    "data_range[[\"Year\",\"Month\",\"day\"]]=data_range.sort_index()['newDate'].str.split('-',expand=True,)\n",
    "data_range['Views']=df[\"value\"]"
   ]
  },
  {
   "cell_type": "code",
   "execution_count": null,
   "id": "2566d90a",
   "metadata": {},
   "outputs": [],
   "source": [
    "data_range=data_range[[\"Year\",\"Month\",\"Views\"]].reset_index()"
   ]
  },
  {
   "cell_type": "code",
   "execution_count": null,
   "id": "b5519eb9",
   "metadata": {},
   "outputs": [],
   "source": [
    "month_avrage=[]\n",
    "for k in month:\n",
    "    data_range.loc[data_range['Month']==\"05\"]['Views'].mean()"
   ]
  },
  {
   "cell_type": "code",
   "execution_count": null,
   "id": "560df882",
   "metadata": {},
   "outputs": [],
   "source": [
    "data_range.pivot('Year','Month','Views').plot.bar()"
   ]
  },
  {
   "cell_type": "code",
   "execution_count": null,
   "id": "0c0aaf4c",
   "metadata": {},
   "outputs": [],
   "source": [
    "month_dict = {1 : \"January\", 2 : \"February\", 3 : \"March\", 4 : \"April\", \n",
    "              5 : \"May\" , 6 : \"June\", 7 : \"July\", 8 : \"August\", \n",
    "              9 : \"September\", 10 : \"October\" ,11 : \"November\",12 : \"December\"}\n",
    "\n",
    "df[[\"Year\",\"month\",\"value\"]].reset_index().pivot('Year','month','value').rename(columns=month_dict).plot.bar()"
   ]
  },
  {
   "cell_type": "code",
   "execution_count": null,
   "id": "7b8d1f87",
   "metadata": {},
   "outputs": [],
   "source": [
    "data_range"
   ]
  },
  {
   "cell_type": "code",
   "execution_count": null,
   "id": "663843de",
   "metadata": {},
   "outputs": [],
   "source": [
    "fig2, ax1 = plt.subplots(figsize=(10,5))\n",
    "data_range.plot(kind='bar',y='value',title=\"Daily freeCodeCamp Forum Page Views 5/2016-12/2019\", grid=True,fontsize=10, ax=ax1)\n",
    "ax.set_xlabel(\"Years\")\n",
    "ax.set_ylabel(\"Average Page Views\")\n",
    "plt.show()"
   ]
  },
  {
   "cell_type": "code",
   "execution_count": null,
   "id": "eda0952c",
   "metadata": {},
   "outputs": [],
   "source": [
    "df.sort_values(by=\"newDate\").loc[]"
   ]
  },
  {
   "cell_type": "code",
   "execution_count": null,
   "id": "5e5a4281",
   "metadata": {},
   "outputs": [],
   "source": [
    "s"
   ]
  },
  {
   "cell_type": "code",
   "execution_count": null,
   "id": "1ba8c882",
   "metadata": {},
   "outputs": [],
   "source": []
  },
  {
   "cell_type": "code",
   "execution_count": null,
   "id": "a7c504df",
   "metadata": {},
   "outputs": [],
   "source": []
  },
  {
   "cell_type": "code",
   "execution_count": null,
   "id": "2b24bbbe",
   "metadata": {},
   "outputs": [],
   "source": []
  },
  {
   "cell_type": "code",
   "execution_count": null,
   "id": "4b711af4",
   "metadata": {},
   "outputs": [],
   "source": []
  },
  {
   "cell_type": "code",
   "execution_count": null,
   "id": "74262941",
   "metadata": {},
   "outputs": [],
   "source": []
  }
 ],
 "metadata": {
  "kernelspec": {
   "display_name": "Python 3",
   "language": "python",
   "name": "python3"
  },
  "language_info": {
   "codemirror_mode": {
    "name": "ipython",
    "version": 3
   },
   "file_extension": ".py",
   "mimetype": "text/x-python",
   "name": "python",
   "nbconvert_exporter": "python",
   "pygments_lexer": "ipython3",
   "version": "3.8.5"
  }
 },
 "nbformat": 4,
 "nbformat_minor": 5
}
